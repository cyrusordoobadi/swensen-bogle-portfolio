{
 "cells": [
  {
   "cell_type": "code",
   "execution_count": 33,
   "metadata": {
    "collapsed": true
   },
   "outputs": [],
   "source": [
    "from pandas_datareader import data\n",
    "import matplotlib.pyplot as plt\n",
    "from datetime import datetime\n",
    "%matplotlib inline\n",
    "import pandas as pd"
   ]
  },
  {
   "cell_type": "code",
   "execution_count": 34,
   "metadata": {
    "collapsed": true
   },
   "outputs": [],
   "source": [
    "#world trading data API\n",
    "# IOB3Di6kTa4nTT9YZQx6kM2aZ078vIwLJFrxwm3PkfC4nPXq63j4JgHmOwFR\n",
    "start = '2003-01-01'\n",
    "end = '2019-01-05'"
   ]
  },
  {
   "cell_type": "code",
   "execution_count": 35,
   "metadata": {
    "collapsed": true
   },
   "outputs": [],
   "source": [
    "# US equities index\n",
    "SPY = pd.read_csv('~/market data repo/worldtradingdata-history-SPY.csv', parse_dates=['Date'],index_col='Date')\n",
    "SPY = SPY['2000-01-01':]"
   ]
  },
  {
   "cell_type": "code",
   "execution_count": 36,
   "metadata": {},
   "outputs": [
    {
     "data": {
      "text/html": [
       "<div>\n",
       "<style>\n",
       "    .dataframe thead tr:only-child th {\n",
       "        text-align: right;\n",
       "    }\n",
       "\n",
       "    .dataframe thead th {\n",
       "        text-align: left;\n",
       "    }\n",
       "\n",
       "    .dataframe tbody tr th {\n",
       "        vertical-align: top;\n",
       "    }\n",
       "</style>\n",
       "<table border=\"1\" class=\"dataframe\">\n",
       "  <thead>\n",
       "    <tr style=\"text-align: right;\">\n",
       "      <th></th>\n",
       "      <th>Open</th>\n",
       "      <th>Close</th>\n",
       "      <th>High</th>\n",
       "      <th>Low</th>\n",
       "      <th>Volume</th>\n",
       "    </tr>\n",
       "    <tr>\n",
       "      <th>Date</th>\n",
       "      <th></th>\n",
       "      <th></th>\n",
       "      <th></th>\n",
       "      <th></th>\n",
       "      <th></th>\n",
       "    </tr>\n",
       "  </thead>\n",
       "  <tbody>\n",
       "    <tr>\n",
       "      <th>2000-01-03</th>\n",
       "      <td>148.25</td>\n",
       "      <td>145.44</td>\n",
       "      <td>148.25</td>\n",
       "      <td>143.88</td>\n",
       "      <td>6407100</td>\n",
       "    </tr>\n",
       "    <tr>\n",
       "      <th>2000-01-04</th>\n",
       "      <td>143.98</td>\n",
       "      <td>139.75</td>\n",
       "      <td>143.98</td>\n",
       "      <td>139.69</td>\n",
       "      <td>7082800</td>\n",
       "    </tr>\n",
       "    <tr>\n",
       "      <th>2000-01-05</th>\n",
       "      <td>139.94</td>\n",
       "      <td>140.22</td>\n",
       "      <td>141.50</td>\n",
       "      <td>137.25</td>\n",
       "      <td>10057100</td>\n",
       "    </tr>\n",
       "    <tr>\n",
       "      <th>2000-01-06</th>\n",
       "      <td>139.63</td>\n",
       "      <td>139.56</td>\n",
       "      <td>141.48</td>\n",
       "      <td>138.88</td>\n",
       "      <td>5270800</td>\n",
       "    </tr>\n",
       "    <tr>\n",
       "      <th>2000-01-07</th>\n",
       "      <td>140.31</td>\n",
       "      <td>144.97</td>\n",
       "      <td>144.97</td>\n",
       "      <td>140.06</td>\n",
       "      <td>6875000</td>\n",
       "    </tr>\n",
       "    <tr>\n",
       "      <th>2000-01-10</th>\n",
       "      <td>146.25</td>\n",
       "      <td>146.38</td>\n",
       "      <td>146.91</td>\n",
       "      <td>145.03</td>\n",
       "      <td>5060700</td>\n",
       "    </tr>\n",
       "  </tbody>\n",
       "</table>\n",
       "</div>"
      ],
      "text/plain": [
       "              Open   Close    High     Low    Volume\n",
       "Date                                                \n",
       "2000-01-03  148.25  145.44  148.25  143.88   6407100\n",
       "2000-01-04  143.98  139.75  143.98  139.69   7082800\n",
       "2000-01-05  139.94  140.22  141.50  137.25  10057100\n",
       "2000-01-06  139.63  139.56  141.48  138.88   5270800\n",
       "2000-01-07  140.31  144.97  144.97  140.06   6875000\n",
       "2000-01-10  146.25  146.38  146.91  145.03   5060700"
      ]
     },
     "execution_count": 36,
     "metadata": {},
     "output_type": "execute_result"
    }
   ],
   "source": [
    "SPY.head(6)"
   ]
  },
  {
   "cell_type": "code",
   "execution_count": 37,
   "metadata": {},
   "outputs": [
    {
     "data": {
      "text/html": [
       "<div>\n",
       "<style>\n",
       "    .dataframe thead tr:only-child th {\n",
       "        text-align: right;\n",
       "    }\n",
       "\n",
       "    .dataframe thead th {\n",
       "        text-align: left;\n",
       "    }\n",
       "\n",
       "    .dataframe tbody tr th {\n",
       "        vertical-align: top;\n",
       "    }\n",
       "</style>\n",
       "<table border=\"1\" class=\"dataframe\">\n",
       "  <thead>\n",
       "    <tr style=\"text-align: right;\">\n",
       "      <th></th>\n",
       "      <th>Close</th>\n",
       "      <th>Daily returns</th>\n",
       "      <th>Cumulative returns</th>\n",
       "    </tr>\n",
       "    <tr>\n",
       "      <th>Date</th>\n",
       "      <th></th>\n",
       "      <th></th>\n",
       "      <th></th>\n",
       "    </tr>\n",
       "  </thead>\n",
       "  <tbody>\n",
       "    <tr>\n",
       "      <th>2000-01-03</th>\n",
       "      <td>145.44</td>\n",
       "      <td>NaN</td>\n",
       "      <td>0.000000</td>\n",
       "    </tr>\n",
       "    <tr>\n",
       "      <th>2000-01-04</th>\n",
       "      <td>139.75</td>\n",
       "      <td>-0.039123</td>\n",
       "      <td>-0.039123</td>\n",
       "    </tr>\n",
       "    <tr>\n",
       "      <th>2000-01-05</th>\n",
       "      <td>140.22</td>\n",
       "      <td>0.003363</td>\n",
       "      <td>-0.035891</td>\n",
       "    </tr>\n",
       "    <tr>\n",
       "      <th>2000-01-06</th>\n",
       "      <td>139.56</td>\n",
       "      <td>-0.004707</td>\n",
       "      <td>-0.040429</td>\n",
       "    </tr>\n",
       "    <tr>\n",
       "      <th>2000-01-07</th>\n",
       "      <td>144.97</td>\n",
       "      <td>0.038765</td>\n",
       "      <td>-0.003232</td>\n",
       "    </tr>\n",
       "  </tbody>\n",
       "</table>\n",
       "</div>"
      ],
      "text/plain": [
       "             Close  Daily returns  Cumulative returns\n",
       "Date                                                 \n",
       "2000-01-03  145.44            NaN            0.000000\n",
       "2000-01-04  139.75      -0.039123           -0.039123\n",
       "2000-01-05  140.22       0.003363           -0.035891\n",
       "2000-01-06  139.56      -0.004707           -0.040429\n",
       "2000-01-07  144.97       0.038765           -0.003232"
      ]
     },
     "execution_count": 37,
     "metadata": {},
     "output_type": "execute_result"
    }
   ],
   "source": [
    "df = pd.DataFrame(SPY['Close']) \n",
    "df['Daily returns'] = SPY['Close'].pct_change()\n",
    "df['Cumulative returns'] = (SPY['Close']/SPY['Close'][0])-1\n",
    "df.head()"
   ]
  },
  {
   "cell_type": "code",
   "execution_count": 42,
   "metadata": {
    "collapsed": true
   },
   "outputs": [],
   "source": [
    "#initialize portfolio value\n",
    "starting_cap = 10000"
   ]
  },
  {
   "cell_type": "code",
   "execution_count": null,
   "metadata": {
    "collapsed": true
   },
   "outputs": [],
   "source": [
    "# initialize portfolio with USD 10,000\n",
    "portfolio_calc = []\n",
    "starting_cap = 10000\n",
    "portfolio_calc.append(starting_cap) "
   ]
  },
  {
   "cell_type": "markdown",
   "metadata": {},
   "source": [
    "Ran into problems because to calculate the portfolio value, I had to run an regressive function on the array. \n",
    "To get around this, I decided to populate a new array with a loop. It probably isn't the most elegant solution... to be reviewed later!"
   ]
  },
  {
   "cell_type": "code",
   "execution_count": null,
   "metadata": {
    "collapsed": true
   },
   "outputs": [],
   "source": [
    "# calculate portfolio value for each day starting from Day 2 (Day 1 = initial investment)\n",
    "i = 1\n",
    "\n",
    "while i < df['Close'].count():\n",
    "    calculation = portfolio_calc[i-1]*(df['Close'][i]/df['Close'][(i-1)])\n",
    "    portfolio_calc.append(calculation)\n",
    "    i = i + 1\n",
    "\n",
    "\n",
    "# df['Portfolio'] = []\n",
    "# i = 0\n",
    "# for column in df['Portfolio']:\n",
    "#     i = i + 1\n",
    "#     df['Portfolio1'].iloc[:i] = i"
   ]
  },
  {
   "cell_type": "code",
   "execution_count": null,
   "metadata": {
    "collapsed": true
   },
   "outputs": [],
   "source": [
    "test_df = pd.DataFrame(portfolio_calc)"
   ]
  },
  {
   "cell_type": "code",
   "execution_count": null,
   "metadata": {
    "collapsed": true
   },
   "outputs": [],
   "source": [
    "# now to merge the two lists\n",
    "\n",
    "# first a check that they are the same length\n",
    "\n",
    "df['Close'].count() == test_df.count()"
   ]
  },
  {
   "cell_type": "code",
   "execution_count": null,
   "metadata": {
    "collapsed": true
   },
   "outputs": [],
   "source": []
  },
  {
   "cell_type": "code",
   "execution_count": null,
   "metadata": {
    "collapsed": true
   },
   "outputs": [],
   "source": [
    "df2 = pd.merge(df,test_df,how='outer')\n"
   ]
  },
  {
   "cell_type": "raw",
   "metadata": {},
   "source": []
  },
  {
   "cell_type": "code",
   "execution_count": null,
   "metadata": {
    "collapsed": true
   },
   "outputs": [],
   "source": []
  },
  {
   "cell_type": "code",
   "execution_count": null,
   "metadata": {
    "collapsed": true
   },
   "outputs": [],
   "source": [
    "SPY['Investment'] = initial_alloc*(1 + SPY['Daily returns']).cumprod()\n",
    "SPY.head()"
   ]
  },
  {
   "cell_type": "code",
   "execution_count": 19,
   "metadata": {},
   "outputs": [
    {
     "data": {
      "text/html": [
       "<div>\n",
       "<style>\n",
       "    .dataframe thead tr:only-child th {\n",
       "        text-align: right;\n",
       "    }\n",
       "\n",
       "    .dataframe thead th {\n",
       "        text-align: left;\n",
       "    }\n",
       "\n",
       "    .dataframe tbody tr th {\n",
       "        vertical-align: top;\n",
       "    }\n",
       "</style>\n",
       "<table border=\"1\" class=\"dataframe\">\n",
       "  <thead>\n",
       "    <tr style=\"text-align: right;\">\n",
       "      <th></th>\n",
       "      <th>id</th>\n",
       "      <th>val</th>\n",
       "    </tr>\n",
       "  </thead>\n",
       "  <tbody>\n",
       "    <tr>\n",
       "      <th>0</th>\n",
       "      <td>1</td>\n",
       "      <td>10</td>\n",
       "    </tr>\n",
       "    <tr>\n",
       "      <th>1</th>\n",
       "      <td>2</td>\n",
       "      <td>20</td>\n",
       "    </tr>\n",
       "    <tr>\n",
       "      <th>2</th>\n",
       "      <td>3</td>\n",
       "      <td>30</td>\n",
       "    </tr>\n",
       "    <tr>\n",
       "      <th>3</th>\n",
       "      <td>4</td>\n",
       "      <td>40</td>\n",
       "    </tr>\n",
       "  </tbody>\n",
       "</table>\n",
       "</div>"
      ],
      "text/plain": [
       "   id  val\n",
       "0   1   10\n",
       "1   2   20\n",
       "2   3   30\n",
       "3   4   40"
      ]
     },
     "execution_count": 19,
     "metadata": {},
     "output_type": "execute_result"
    }
   ],
   "source": [
    "arraytime = [[1,10],[2,20],[3,30],[4,40]]\n",
    "arraytime = pd.DataFrame(arraytime,columns=('id','val'))\n",
    "arraytime"
   ]
  },
  {
   "cell_type": "code",
   "execution_count": 29,
   "metadata": {},
   "outputs": [
    {
     "name": "stdout",
     "output_type": "stream",
     "text": [
      "   id  val   diff\n",
      "0   1   10  100.0\n",
      "1   2   20   80.0\n",
      "2   3   30   50.0\n",
      "3   4   40   10.0\n"
     ]
    }
   ],
   "source": [
    "arraytime.loc[0, 'diff'] = arraytime.loc[0, 'val'] * 10\n",
    "\n",
    "for i in range(1, len(arraytime)):\n",
    "    arraytime.loc[i, 'diff'] = (arraytime.loc[i-1, 'diff']-arraytime.loc[i, 'val'])\n",
    "\n",
    "print(arraytime)"
   ]
  },
  {
   "cell_type": "code",
   "execution_count": null,
   "metadata": {
    "collapsed": true
   },
   "outputs": [],
   "source": []
  }
 ],
 "metadata": {
  "kernelspec": {
   "display_name": "Python 3",
   "language": "python",
   "name": "python3"
  },
  "language_info": {
   "codemirror_mode": {
    "name": "ipython",
    "version": 3
   },
   "file_extension": ".py",
   "mimetype": "text/x-python",
   "name": "python",
   "nbconvert_exporter": "python",
   "pygments_lexer": "ipython3",
   "version": "3.6.8"
  }
 },
 "nbformat": 4,
 "nbformat_minor": 2
}
