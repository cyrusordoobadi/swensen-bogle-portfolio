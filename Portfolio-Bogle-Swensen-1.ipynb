{
 "cells": [
  {
   "cell_type": "markdown",
   "metadata": {},
   "source": [
    "\"Simplicity underlies the best investment strategies. Basic arithmetic works. Keep your investment expenses under control,\" he says. \"Your net return is simply the gross return of your investment portfolio less the costs you incur such as sales commissions, advisory fees, transaction costs. Low costs make your task easier.\"\n",
    "\n",
    "As for balancing risk and reward depending on your age, Bogle says:\n"
   ]
  },
  {
   "cell_type": "code",
   "execution_count": 37,
   "metadata": {
    "collapsed": true
   },
   "outputs": [],
   "source": [
    "import numpy as np\n",
    "import pandas as pd\n",
    "import matplotlib.pyplot as plt"
   ]
  },
  {
   "cell_type": "code",
   "execution_count": 175,
   "metadata": {
    "collapsed": true
   },
   "outputs": [],
   "source": [
    "start = '2003-01-01'\n",
    "end = '2019-01-05'"
   ]
  },
  {
   "cell_type": "code",
   "execution_count": 176,
   "metadata": {},
   "outputs": [
    {
     "data": {
      "text/html": [
       "<div>\n",
       "<table border=\"1\" class=\"dataframe\">\n",
       "  <thead>\n",
       "    <tr style=\"text-align: right;\">\n",
       "      <th></th>\n",
       "      <th>open_price</th>\n",
       "      <th>high</th>\n",
       "      <th>low</th>\n",
       "      <th>close_price</th>\n",
       "      <th>volume</th>\n",
       "      <th>price</th>\n",
       "    </tr>\n",
       "  </thead>\n",
       "  <tbody>\n",
       "    <tr>\n",
       "      <th>2003-01-02 00:00:00+00:00</th>\n",
       "      <td>56.809</td>\n",
       "      <td>56.938</td>\n",
       "      <td>55.844</td>\n",
       "      <td>55.882</td>\n",
       "      <td>189100.0</td>\n",
       "      <td>55.882</td>\n",
       "    </tr>\n",
       "    <tr>\n",
       "      <th>2003-01-03 00:00:00+00:00</th>\n",
       "      <td>55.805</td>\n",
       "      <td>56.057</td>\n",
       "      <td>55.597</td>\n",
       "      <td>56.018</td>\n",
       "      <td>311200.0</td>\n",
       "      <td>56.018</td>\n",
       "    </tr>\n",
       "    <tr>\n",
       "      <th>2003-01-06 00:00:00+00:00</th>\n",
       "      <td>55.818</td>\n",
       "      <td>55.895</td>\n",
       "      <td>55.584</td>\n",
       "      <td>55.869</td>\n",
       "      <td>35600.0</td>\n",
       "      <td>55.869</td>\n",
       "    </tr>\n",
       "    <tr>\n",
       "      <th>2003-01-07 00:00:00+00:00</th>\n",
       "      <td>55.831</td>\n",
       "      <td>56.193</td>\n",
       "      <td>55.818</td>\n",
       "      <td>56.070</td>\n",
       "      <td>69800.0</td>\n",
       "      <td>56.070</td>\n",
       "    </tr>\n",
       "    <tr>\n",
       "      <th>2003-01-08 00:00:00+00:00</th>\n",
       "      <td>56.278</td>\n",
       "      <td>56.446</td>\n",
       "      <td>56.213</td>\n",
       "      <td>56.316</td>\n",
       "      <td>155600.0</td>\n",
       "      <td>56.316</td>\n",
       "    </tr>\n",
       "  </tbody>\n",
       "</table>\n",
       "</div>"
      ],
      "text/plain": [
       "                           open_price    high     low  close_price    volume  \\\n",
       "2003-01-02 00:00:00+00:00      56.809  56.938  55.844       55.882  189100.0   \n",
       "2003-01-03 00:00:00+00:00      55.805  56.057  55.597       56.018  311200.0   \n",
       "2003-01-06 00:00:00+00:00      55.818  55.895  55.584       55.869   35600.0   \n",
       "2003-01-07 00:00:00+00:00      55.831  56.193  55.818       56.070   69800.0   \n",
       "2003-01-08 00:00:00+00:00      56.278  56.446  56.213       56.316  155600.0   \n",
       "\n",
       "                            price  \n",
       "2003-01-02 00:00:00+00:00  55.882  \n",
       "2003-01-03 00:00:00+00:00  56.018  \n",
       "2003-01-06 00:00:00+00:00  55.869  \n",
       "2003-01-07 00:00:00+00:00  56.070  \n",
       "2003-01-08 00:00:00+00:00  56.316  "
      ]
     },
     "execution_count": 176,
     "metadata": {},
     "output_type": "execute_result"
    }
   ],
   "source": [
    "SPY = get_pricing('SPY',start_date = start,end_date = end)\n",
    "TLT = get_pricing('TLT',start,end)\n",
    "TLT.head()"
   ]
  },
  {
   "cell_type": "code",
   "execution_count": 177,
   "metadata": {
    "collapsed": true
   },
   "outputs": [],
   "source": [
    "# https://www.ishares.com/us/products/239454/ishares-20-year-treasury-bond-etf#/"
   ]
  },
  {
   "cell_type": "code",
   "execution_count": 40,
   "metadata": {
    "collapsed": true
   },
   "outputs": [],
   "source": [
    "def test_first_day_of_year():\n",
    "    #loop for testing first day of the year across multiple years\n",
    "    #makes sure that the first trading day for the range of years selected \n",
    "    #falls between Jan 1 - Jan 4\n",
    "    \n",
    "    year = int(start[:4])\n",
    "\n",
    "    #Finds and acts on first trading day between Jan 1 - 4\n",
    "    while year < int(end[:4])+1:\n",
    "        try:\n",
    "            date = str(year) + '-01-01'\n",
    "            SPY.loc[date]['open_price']\n",
    "            return True\n",
    "        except KeyError as error:\n",
    "            try:\n",
    "                date = str(year) + '-01-02'\n",
    "                SPY.loc[date]['open_price']\n",
    "                return True\n",
    "            except KeyError as error:\n",
    "                try:\n",
    "                    date = str(year) + '-01-03'\n",
    "                    SPY.loc[date]['open_price']\n",
    "                    return True\n",
    "                except KeyError as error:\n",
    "                    date = str(year) + '-01-04'\n",
    "                    SPY.loc[date]['open_price']\n",
    "                    return True\n",
    "        year = year + 1"
   ]
  },
  {
   "cell_type": "code",
   "execution_count": 41,
   "metadata": {},
   "outputs": [
    {
     "data": {
      "text/plain": [
       "True"
      ]
     },
     "execution_count": 41,
     "metadata": {},
     "output_type": "execute_result"
    }
   ],
   "source": [
    "test_first_day_of_year()"
   ]
  },
  {
   "cell_type": "code",
   "execution_count": 42,
   "metadata": {
    "collapsed": true
   },
   "outputs": [],
   "source": [
    "def first_trading_day(year):\n",
    "# return first tradable day between Jan 1 - Jan 4 since it tends to vary from year to year\n",
    "# based on trials, it seems the first day of trading is rarely, if ever, after Jan 4\n",
    "    if test_first_day_of_year():   \n",
    "        try:\n",
    "            date = str(year) + '-01-01'\n",
    "            SPY.loc[date]['open_price']\n",
    "            return date\n",
    "        except KeyError as error:\n",
    "            try:\n",
    "                date = str(year) + '-01-02'\n",
    "                SPY.loc[date]['open_price']\n",
    "                return date\n",
    "            except KeyError as error:\n",
    "                try:\n",
    "                    date = str(year) + '-01-03'\n",
    "                    SPY.loc[date]['open_price']\n",
    "                    return date\n",
    "                except KeyError as error:\n",
    "                    date = str(year) + '-01-04'\n",
    "                    SPY.loc[date]['open_price']\n",
    "                    return date"
   ]
  },
  {
   "cell_type": "code",
   "execution_count": 43,
   "metadata": {},
   "outputs": [
    {
     "data": {
      "text/plain": [
       "'2003-01-02'"
      ]
     },
     "execution_count": 43,
     "metadata": {},
     "output_type": "execute_result"
    }
   ],
   "source": [
    "first_trading_day(2003)"
   ]
  },
  {
   "cell_type": "code",
   "execution_count": 44,
   "metadata": {
    "collapsed": true
   },
   "outputs": [],
   "source": [
    "#set up portfolio data frame\n",
    "SPY_price = pd.DataFrame(SPY['open_price'])\n",
    "TLT_price = pd.DataFrame(TLT['open_price'])\n",
    "portfolio = pd.concat([SPY_price, TLT_price],axis = 1)\n",
    "portfolio.columns = ['SPY price','TLT price']"
   ]
  },
  {
   "cell_type": "code",
   "execution_count": 178,
   "metadata": {
    "collapsed": true
   },
   "outputs": [],
   "source": [
    "#initialize\n",
    "cash = 10000\n",
    "age = 25\n",
    "year = int(start[:4])\n",
    "weight = float(age/100.0)\n",
    "\n",
    "#initial SPY & TLT allocations\n",
    "date = first_trading_day(year)\n",
    "portfolio['SPY alloc'] = (cash*(1-weight))/SPY.loc[date]['open_price']\n",
    "portfolio['TLT alloc'] = (cash*weight)/ TLT.loc[date]['open_price']\n",
    "\n",
    "#establish value of SPY/TLT/portfolio holdings\n",
    "portfolio['SPY val'] = portfolio['SPY alloc'] * portfolio['SPY price']\n",
    "portfolio['TLT val'] = portfolio['TLT alloc'] * portfolio['TLT price']\n",
    "portfolio['Portfolio value'] = portfolio['SPY val'] + portfolio['TLT val']\n",
    "\n",
    "''' For a determined period, rebalance portfolio each year.\n",
    "    Each year, the bond portion of the portfolio will increase by 1%\n",
    "    to match the age of the investor - a rule of thumb for basic portfolios\n",
    "    espoused by Bogle - although Bogle himself kept 50/50 equity to bond in \n",
    "    his own portfolio in later years '''\n",
    "\n",
    "while year < int(end[:4]):\n",
    "    date = first_trading_day(year)\n",
    "    \n",
    "    weight = float(age/100.0)\n",
    "    \n",
    "    portfolio['SPY alloc'][date:] = (portfolio['Portfolio value'][date]*\\\n",
    "                                     (1-weight))/SPY.loc[date]['open_price']\n",
    "    portfolio['SPY val'] = portfolio['SPY alloc'] * portfolio['SPY price']\n",
    "    portfolio['TLT alloc'][date:] = (portfolio['Portfolio value'][date]*\\\n",
    "                                     weight)/TLT.loc[date]['open_price']\n",
    "    portfolio['TLT val'] = portfolio['TLT alloc'] * portfolio['TLT price']\n",
    "    \n",
    "#     print('Year: \\t\\t %d' % (year))\n",
    "#     print('Bond weight: \\t %.2f' % (weight))\n",
    "#     print('Age: \\t\\t %d \\n' % (age))\n",
    "#     print('Total cash: \\t %d \\n' % (cash))\n",
    "#     print(portfolio[['TLT price','TLT alloc','TLT val']])\n",
    "\n",
    "\n",
    "    year += 1\n",
    "    age += 1"
   ]
  },
  {
   "cell_type": "code",
   "execution_count": null,
   "metadata": {
    "collapsed": true
   },
   "outputs": [],
   "source": []
  },
  {
   "cell_type": "code",
   "execution_count": 149,
   "metadata": {
    "collapsed": true
   },
   "outputs": [],
   "source": [
    "portfolio['Portfolio returns'] = portfolio['Portfolio value'].pct_change(1)\n",
    "portfolio['Portfolio cumulative return'] = (1+portfolio['Portfolio returns']).cumprod()"
   ]
  },
  {
   "cell_type": "code",
   "execution_count": 150,
   "metadata": {
    "scrolled": true
   },
   "outputs": [
    {
     "data": {
      "text/html": [
       "<div>\n",
       "<table border=\"1\" class=\"dataframe\">\n",
       "  <thead>\n",
       "    <tr style=\"text-align: right;\">\n",
       "      <th></th>\n",
       "      <th>SPY price</th>\n",
       "      <th>TLT price</th>\n",
       "      <th>SPY alloc</th>\n",
       "      <th>TLT alloc</th>\n",
       "      <th>SPY val</th>\n",
       "      <th>TLT val</th>\n",
       "      <th>Portfolio value</th>\n",
       "      <th>Portfolio returns</th>\n",
       "      <th>Portfolio cumulative return</th>\n",
       "      <th>TLT weight</th>\n",
       "      <th>SPY returns</th>\n",
       "      <th>TLT returns</th>\n",
       "      <th>SPY cumulative return</th>\n",
       "      <th>TLT cumulative return</th>\n",
       "    </tr>\n",
       "  </thead>\n",
       "  <tbody>\n",
       "    <tr>\n",
       "      <th>2003-12-26 00:00:00+00:00</th>\n",
       "      <td>81.795</td>\n",
       "      <td>59.004</td>\n",
       "      <td>115.111889</td>\n",
       "      <td>44.007112</td>\n",
       "      <td>9415.576941</td>\n",
       "      <td>2596.595610</td>\n",
       "      <td>12012.172551</td>\n",
       "      <td>0.003121</td>\n",
       "      <td>1.201217</td>\n",
       "      <td>0.216164</td>\n",
       "      <td>0.002291</td>\n",
       "      <td>0.006139</td>\n",
       "      <td>1.255410</td>\n",
       "      <td>1.038638</td>\n",
       "    </tr>\n",
       "    <tr>\n",
       "      <th>2003-12-29 00:00:00+00:00</th>\n",
       "      <td>82.063</td>\n",
       "      <td>58.868</td>\n",
       "      <td>115.111889</td>\n",
       "      <td>44.007112</td>\n",
       "      <td>9446.426927</td>\n",
       "      <td>2590.610643</td>\n",
       "      <td>12037.037570</td>\n",
       "      <td>0.002070</td>\n",
       "      <td>1.203704</td>\n",
       "      <td>0.215220</td>\n",
       "      <td>0.003276</td>\n",
       "      <td>-0.002305</td>\n",
       "      <td>1.259524</td>\n",
       "      <td>1.036244</td>\n",
       "    </tr>\n",
       "    <tr>\n",
       "      <th>2003-12-30 00:00:00+00:00</th>\n",
       "      <td>82.794</td>\n",
       "      <td>58.257</td>\n",
       "      <td>115.111889</td>\n",
       "      <td>44.007112</td>\n",
       "      <td>9530.573718</td>\n",
       "      <td>2563.722298</td>\n",
       "      <td>12094.296015</td>\n",
       "      <td>0.004757</td>\n",
       "      <td>1.209430</td>\n",
       "      <td>0.211978</td>\n",
       "      <td>0.008908</td>\n",
       "      <td>-0.010379</td>\n",
       "      <td>1.270743</td>\n",
       "      <td>1.025489</td>\n",
       "    </tr>\n",
       "    <tr>\n",
       "      <th>2003-12-31 00:00:00+00:00</th>\n",
       "      <td>82.935</td>\n",
       "      <td>57.965</td>\n",
       "      <td>115.111889</td>\n",
       "      <td>44.007112</td>\n",
       "      <td>9546.804494</td>\n",
       "      <td>2550.872221</td>\n",
       "      <td>12097.676715</td>\n",
       "      <td>0.000280</td>\n",
       "      <td>1.209768</td>\n",
       "      <td>0.210856</td>\n",
       "      <td>0.001703</td>\n",
       "      <td>-0.005012</td>\n",
       "      <td>1.272907</td>\n",
       "      <td>1.020349</td>\n",
       "    </tr>\n",
       "    <tr>\n",
       "      <th>2004-01-02 00:00:00+00:00</th>\n",
       "      <td>83.285</td>\n",
       "      <td>57.775</td>\n",
       "      <td>107.773397</td>\n",
       "      <td>54.585845</td>\n",
       "      <td>8975.907348</td>\n",
       "      <td>3153.697176</td>\n",
       "      <td>12129.604525</td>\n",
       "      <td>0.002639</td>\n",
       "      <td>1.212960</td>\n",
       "      <td>0.260000</td>\n",
       "      <td>0.004220</td>\n",
       "      <td>-0.003278</td>\n",
       "      <td>1.278279</td>\n",
       "      <td>1.017004</td>\n",
       "    </tr>\n",
       "    <tr>\n",
       "      <th>2004-01-05 00:00:00+00:00</th>\n",
       "      <td>83.248</td>\n",
       "      <td>57.042</td>\n",
       "      <td>107.773397</td>\n",
       "      <td>54.585845</td>\n",
       "      <td>8971.919733</td>\n",
       "      <td>3113.685752</td>\n",
       "      <td>12093.088172</td>\n",
       "      <td>-0.003011</td>\n",
       "      <td>1.209309</td>\n",
       "      <td>0.257636</td>\n",
       "      <td>-0.000444</td>\n",
       "      <td>-0.012687</td>\n",
       "      <td>1.277711</td>\n",
       "      <td>1.004101</td>\n",
       "    </tr>\n",
       "  </tbody>\n",
       "</table>\n",
       "</div>"
      ],
      "text/plain": [
       "                           SPY price  TLT price   SPY alloc  TLT alloc  \\\n",
       "2003-12-26 00:00:00+00:00     81.795     59.004  115.111889  44.007112   \n",
       "2003-12-29 00:00:00+00:00     82.063     58.868  115.111889  44.007112   \n",
       "2003-12-30 00:00:00+00:00     82.794     58.257  115.111889  44.007112   \n",
       "2003-12-31 00:00:00+00:00     82.935     57.965  115.111889  44.007112   \n",
       "2004-01-02 00:00:00+00:00     83.285     57.775  107.773397  54.585845   \n",
       "2004-01-05 00:00:00+00:00     83.248     57.042  107.773397  54.585845   \n",
       "\n",
       "                               SPY val      TLT val  Portfolio value  \\\n",
       "2003-12-26 00:00:00+00:00  9415.576941  2596.595610     12012.172551   \n",
       "2003-12-29 00:00:00+00:00  9446.426927  2590.610643     12037.037570   \n",
       "2003-12-30 00:00:00+00:00  9530.573718  2563.722298     12094.296015   \n",
       "2003-12-31 00:00:00+00:00  9546.804494  2550.872221     12097.676715   \n",
       "2004-01-02 00:00:00+00:00  8975.907348  3153.697176     12129.604525   \n",
       "2004-01-05 00:00:00+00:00  8971.919733  3113.685752     12093.088172   \n",
       "\n",
       "                           Portfolio returns  Portfolio cumulative return  \\\n",
       "2003-12-26 00:00:00+00:00           0.003121                     1.201217   \n",
       "2003-12-29 00:00:00+00:00           0.002070                     1.203704   \n",
       "2003-12-30 00:00:00+00:00           0.004757                     1.209430   \n",
       "2003-12-31 00:00:00+00:00           0.000280                     1.209768   \n",
       "2004-01-02 00:00:00+00:00           0.002639                     1.212960   \n",
       "2004-01-05 00:00:00+00:00          -0.003011                     1.209309   \n",
       "\n",
       "                           TLT weight  SPY returns  TLT returns  \\\n",
       "2003-12-26 00:00:00+00:00    0.216164     0.002291     0.006139   \n",
       "2003-12-29 00:00:00+00:00    0.215220     0.003276    -0.002305   \n",
       "2003-12-30 00:00:00+00:00    0.211978     0.008908    -0.010379   \n",
       "2003-12-31 00:00:00+00:00    0.210856     0.001703    -0.005012   \n",
       "2004-01-02 00:00:00+00:00    0.260000     0.004220    -0.003278   \n",
       "2004-01-05 00:00:00+00:00    0.257636    -0.000444    -0.012687   \n",
       "\n",
       "                           SPY cumulative return  TLT cumulative return  \n",
       "2003-12-26 00:00:00+00:00               1.255410               1.038638  \n",
       "2003-12-29 00:00:00+00:00               1.259524               1.036244  \n",
       "2003-12-30 00:00:00+00:00               1.270743               1.025489  \n",
       "2003-12-31 00:00:00+00:00               1.272907               1.020349  \n",
       "2004-01-02 00:00:00+00:00               1.278279               1.017004  \n",
       "2004-01-05 00:00:00+00:00               1.277711               1.004101  "
      ]
     },
     "execution_count": 150,
     "metadata": {},
     "output_type": "execute_result"
    }
   ],
   "source": [
    "#portfolio['Portfolio cumulative return']['2003-12-12':]\n",
    "portfolio['TLT weight'] = portfolio['TLT val']/(portfolio['TLT val'] + portfolio['SPY val'])\n",
    "portfolio[:]['2003-12-25':'2004-01-05']\n"
   ]
  },
  {
   "cell_type": "code",
   "execution_count": 151,
   "metadata": {
    "collapsed": true
   },
   "outputs": [],
   "source": [
    "portfolio['SPY returns'] = SPY['open_price'].pct_change(1)\n",
    "portfolio['TLT returns'] = TLT['open_price'].pct_change(1)\n",
    "portfolio['SPY cumulative return'] = (1 + portfolio['SPY returns']).cumprod()\n",
    "portfolio['TLT cumulative return'] = (1 + portfolio['TLT returns']).cumprod()\n",
    "returns = portfolio[['SPY returns','TLT returns']]"
   ]
  },
  {
   "cell_type": "code",
   "execution_count": 152,
   "metadata": {},
   "outputs": [
    {
     "data": {
      "image/png": "[encoded data removed]",
      "text/plain": [
       "<matplotlib.figure.Figure at 0x7f175d416390>"
      ]
     },
     "metadata": {},
     "output_type": "display_data"
    }
   ],
   "source": [
    "returns.plot(kind='scatter',x='SPY returns',y='TLT returns',alpha=0.4,figsize=(10,8));\n",
    "#We see that there is not a clear correlation"
   ]
  },
  {
   "cell_type": "code",
   "execution_count": 153,
   "metadata": {},
   "outputs": [
    {
     "data": {
      "text/html": [
       "<div>\n",
       "<table border=\"1\" class=\"dataframe\">\n",
       "  <thead>\n",
       "    <tr style=\"text-align: right;\">\n",
       "      <th></th>\n",
       "      <th>SPY returns</th>\n",
       "      <th>TLT returns</th>\n",
       "    </tr>\n",
       "  </thead>\n",
       "  <tbody>\n",
       "    <tr>\n",
       "      <th>SPY returns</th>\n",
       "      <td>1.000000</td>\n",
       "      <td>-0.389473</td>\n",
       "    </tr>\n",
       "    <tr>\n",
       "      <th>TLT returns</th>\n",
       "      <td>-0.389473</td>\n",
       "      <td>1.000000</td>\n",
       "    </tr>\n",
       "  </tbody>\n",
       "</table>\n",
       "</div>"
      ],
      "text/plain": [
       "             SPY returns  TLT returns\n",
       "SPY returns     1.000000    -0.389473\n",
       "TLT returns    -0.389473     1.000000"
      ]
     },
     "execution_count": 153,
     "metadata": {},
     "output_type": "execute_result"
    }
   ],
   "source": [
    "returns.corr()\n",
    "#there is a -0.39 correlation between the daily returns on the SPY and the returns on TLT"
   ]
  },
  {
   "cell_type": "code",
   "execution_count": 154,
   "metadata": {},
   "outputs": [
    {
     "data": {
      "text/html": [
       "<div>\n",
       "<table border=\"1\" class=\"dataframe\">\n",
       "  <thead>\n",
       "    <tr style=\"text-align: right;\">\n",
       "      <th></th>\n",
       "      <th>TLT cumulative return</th>\n",
       "      <th>SPY cumulative return</th>\n",
       "    </tr>\n",
       "  </thead>\n",
       "  <tbody>\n",
       "    <tr>\n",
       "      <th>TLT cumulative return</th>\n",
       "      <td>1.000000</td>\n",
       "      <td>0.861706</td>\n",
       "    </tr>\n",
       "    <tr>\n",
       "      <th>SPY cumulative return</th>\n",
       "      <td>0.861706</td>\n",
       "      <td>1.000000</td>\n",
       "    </tr>\n",
       "  </tbody>\n",
       "</table>\n",
       "</div>"
      ],
      "text/plain": [
       "                       TLT cumulative return  SPY cumulative return\n",
       "TLT cumulative return               1.000000               0.861706\n",
       "SPY cumulative return               0.861706               1.000000"
      ]
     },
     "execution_count": 154,
     "metadata": {},
     "output_type": "execute_result"
    }
   ],
   "source": [
    "cumulative_returns = portfolio[['TLT cumulative return','SPY cumulative return']]\n",
    "cumulative_returns.corr()\n",
    "#however, on a cumulative basis, the movement of bonds and stocks is quite highly correlated (0.86)"
   ]
  },
  {
   "cell_type": "code",
   "execution_count": 155,
   "metadata": {},
   "outputs": [
    {
     "data": {
      "image/png": "[encoded data removed]",
      "text/plain": [
       "<matplotlib.figure.Figure at 0x7f175d855310>"
      ]
     },
     "metadata": {},
     "output_type": "display_data"
    }
   ],
   "source": [
    "portfolio['SPY cumulative return'].plot(label='SPY',figsize=(16,8),title='Cumulative Return')\n",
    "portfolio['TLT cumulative return'].plot(label='TLT')\n",
    "portfolio['Portfolio cumulative return'].plot(label='Portfolio')\n",
    "#axhline(y=2, xmin=-1, xmax=1, color='r', linestyle='--', lw=2)\n",
    "plt.legend(loc='best');"
   ]
  },
  {
   "cell_type": "code",
   "execution_count": null,
   "metadata": {
    "collapsed": true
   },
   "outputs": [],
   "source": []
  },
  {
   "cell_type": "code",
   "execution_count": 158,
   "metadata": {},
   "outputs": [
    {
     "name": "stdout",
     "output_type": "stream",
     "text": [
      "TLT daily returns std: \t\t\t 0.00811\n",
      "SPY daily returns std: \t\t\t 0.01125\n",
      "Portfolio daily returns std: \t\t 0.00806 \n",
      "\n",
      "TLT cumulative returns std: \t\t 0.40165\n",
      "SPY cumulative returns std: \t\t 0.90591\n",
      "Portfolio cumulative returns std: \t 0.76765\n"
     ]
    }
   ],
   "source": [
    "# Daily returns\n",
    "\n",
    "print('TLT daily returns std: \\t\\t\\t {:.5f}'\\\n",
    "      .format(portfolio['TLT returns'].std()))\n",
    "print('SPY daily returns std: \\t\\t\\t {:.5f}'\\\n",
    "      .format(portfolio['SPY returns'].std()))\n",
    "print('Portfolio daily returns std: \\t\\t {:.5f} \\n'\\\n",
    "      .format(portfolio['Portfolio returns'].std()))\n",
    "\n",
    "# Cumulative returns\n",
    "\n",
    "print('TLT cumulative returns std: \\t\\t {:.5f}'\\\n",
    "      .format(portfolio['TLT cumulative return'].std()))\n",
    "print('SPY cumulative returns std: \\t\\t {:.5f}'\\\n",
    "      .format(portfolio['SPY cumulative return'].std()))\n",
    "print('Portfolio cumulative returns std: \\t {:.5f}'\\\n",
    "      .format(portfolio['Portfolio cumulative return'].std()))"
   ]
  },
  {
   "cell_type": "code",
   "execution_count": 159,
   "metadata": {},
   "outputs": [
    {
     "data": {
      "text/html": [
       "<div>\n",
       "<table border=\"1\" class=\"dataframe\">\n",
       "  <thead>\n",
       "    <tr style=\"text-align: right;\">\n",
       "      <th></th>\n",
       "      <th>SPY price</th>\n",
       "      <th>TLT price</th>\n",
       "      <th>SPY alloc</th>\n",
       "      <th>TLT alloc</th>\n",
       "      <th>SPY val</th>\n",
       "      <th>TLT val</th>\n",
       "      <th>Portfolio value</th>\n",
       "      <th>Portfolio returns</th>\n",
       "      <th>Portfolio cumulative return</th>\n",
       "      <th>TLT weight</th>\n",
       "      <th>SPY returns</th>\n",
       "      <th>TLT returns</th>\n",
       "      <th>SPY cumulative return</th>\n",
       "      <th>TLT cumulative return</th>\n",
       "    </tr>\n",
       "  </thead>\n",
       "  <tbody>\n",
       "    <tr>\n",
       "      <th>2019-01-02 00:00:00+00:00</th>\n",
       "      <td>245.98</td>\n",
       "      <td>121.66</td>\n",
       "      <td>81.437302</td>\n",
       "      <td>115.885899</td>\n",
       "      <td>20031.947662</td>\n",
       "      <td>14098.678484</td>\n",
       "      <td>33669.127587</td>\n",
       "      <td>-0.010802</td>\n",
       "      <td>3.366913</td>\n",
       "      <td>0.413080</td>\n",
       "      <td>-0.014345</td>\n",
       "      <td>0.008371</td>\n",
       "      <td>3.775363</td>\n",
       "      <td>2.141562</td>\n",
       "    </tr>\n",
       "    <tr>\n",
       "      <th>2019-01-03 00:00:00+00:00</th>\n",
       "      <td>248.23</td>\n",
       "      <td>122.29</td>\n",
       "      <td>81.437302</td>\n",
       "      <td>115.885899</td>\n",
       "      <td>20215.181592</td>\n",
       "      <td>14171.686600</td>\n",
       "      <td>33955.853817</td>\n",
       "      <td>0.008516</td>\n",
       "      <td>3.395585</td>\n",
       "      <td>0.412125</td>\n",
       "      <td>0.009147</td>\n",
       "      <td>0.005178</td>\n",
       "      <td>3.809897</td>\n",
       "      <td>2.152652</td>\n",
       "    </tr>\n",
       "    <tr>\n",
       "      <th>2019-01-04 00:00:00+00:00</th>\n",
       "      <td>247.59</td>\n",
       "      <td>122.34</td>\n",
       "      <td>81.437302</td>\n",
       "      <td>115.885899</td>\n",
       "      <td>20163.061719</td>\n",
       "      <td>14177.480895</td>\n",
       "      <td>33884.382564</td>\n",
       "      <td>-0.002105</td>\n",
       "      <td>3.388438</td>\n",
       "      <td>0.412850</td>\n",
       "      <td>-0.002578</td>\n",
       "      <td>0.000409</td>\n",
       "      <td>3.800074</td>\n",
       "      <td>2.153532</td>\n",
       "    </tr>\n",
       "  </tbody>\n",
       "</table>\n",
       "</div>"
      ],
      "text/plain": [
       "                           SPY price  TLT price  SPY alloc   TLT alloc  \\\n",
       "2019-01-02 00:00:00+00:00     245.98     121.66  81.437302  115.885899   \n",
       "2019-01-03 00:00:00+00:00     248.23     122.29  81.437302  115.885899   \n",
       "2019-01-04 00:00:00+00:00     247.59     122.34  81.437302  115.885899   \n",
       "\n",
       "                                SPY val       TLT val  Portfolio value  \\\n",
       "2019-01-02 00:00:00+00:00  20031.947662  14098.678484     33669.127587   \n",
       "2019-01-03 00:00:00+00:00  20215.181592  14171.686600     33955.853817   \n",
       "2019-01-04 00:00:00+00:00  20163.061719  14177.480895     33884.382564   \n",
       "\n",
       "                           Portfolio returns  Portfolio cumulative return  \\\n",
       "2019-01-02 00:00:00+00:00          -0.010802                     3.366913   \n",
       "2019-01-03 00:00:00+00:00           0.008516                     3.395585   \n",
       "2019-01-04 00:00:00+00:00          -0.002105                     3.388438   \n",
       "\n",
       "                           TLT weight  SPY returns  TLT returns  \\\n",
       "2019-01-02 00:00:00+00:00    0.413080    -0.014345     0.008371   \n",
       "2019-01-03 00:00:00+00:00    0.412125     0.009147     0.005178   \n",
       "2019-01-04 00:00:00+00:00    0.412850    -0.002578     0.000409   \n",
       "\n",
       "                           SPY cumulative return  TLT cumulative return  \n",
       "2019-01-02 00:00:00+00:00               3.775363               2.141562  \n",
       "2019-01-03 00:00:00+00:00               3.809897               2.152652  \n",
       "2019-01-04 00:00:00+00:00               3.800074               2.153532  "
      ]
     },
     "execution_count": 159,
     "metadata": {},
     "output_type": "execute_result"
    }
   ],
   "source": [
    "portfolio.tail(3)"
   ]
  },
  {
   "cell_type": "code",
   "execution_count": 169,
   "metadata": {},
   "outputs": [
    {
     "name": "stdout",
     "output_type": "stream",
     "text": [
      "SPY Sharpe Ratio: \t\t 0.55719\n",
      "TLT Sharpe Ratio: \t\t 0.43699\n",
      "Portfolio Sharpe Ratio: \t 0.66048\n"
     ]
    }
   ],
   "source": [
    "# Calculate Sharpe ratio\n",
    "SPY_sharpe = portfolio['SPY returns'].mean() / portfolio['SPY returns'].std()\n",
    "TLT_sharpe = portfolio['TLT returns'].mean() / portfolio['TLT returns'].std()\n",
    "portfolio_sharpe = portfolio['Portfolio returns'].mean() / portfolio['Portfolio returns'].std()\n",
    "\n",
    "# Annualize Sharpe ratio\n",
    "SPY_sharpe = SPY_sharpe * (252 ** 0.5)\n",
    "TLT_sharpe = TLT_sharpe * (252 ** 0.5)\n",
    "portfolio_sharpe = portfolio_sharpe * (252 ** 0.5)\n",
    "\n",
    "print('SPY Sharpe Ratio: \\t\\t {:.5f}'.format(SPY_sharpe))\n",
    "print('TLT Sharpe Ratio: \\t\\t {:.5f}'.format(TLT_sharpe))\n",
    "print('Portfolio Sharpe Ratio: \\t {:.5f}'.format(portfolio_sharpe))"
   ]
  },
  {
   "cell_type": "code",
   "execution_count": null,
   "metadata": {
    "collapsed": true
   },
   "outputs": [],
   "source": []
  },
  {
   "cell_type": "code",
   "execution_count": null,
   "metadata": {
    "collapsed": true
   },
   "outputs": [],
   "source": []
  },
  {
   "cell_type": "code",
   "execution_count": null,
   "metadata": {
    "collapsed": true
   },
   "outputs": [],
   "source": []
  },
  {
   "cell_type": "code",
   "execution_count": null,
   "metadata": {
    "collapsed": true
   },
   "outputs": [],
   "source": []
  },
  {
   "cell_type": "code",
   "execution_count": null,
   "metadata": {
    "collapsed": true
   },
   "outputs": [],
   "source": []
  }
 ],
 "metadata": {
  "kernelspec": {
   "display_name": "Python 3",
   "language": "python",
   "name": "python3"
  },
  "language_info": {
   "codemirror_mode": {
    "name": "ipython",
    "version": 3
   },
   "file_extension": ".py",
   "mimetype": "text/x-python",
   "name": "python",
   "nbconvert_exporter": "python",
   "pygments_lexer": "ipython3",
   "version": "3.6.8"
  },
  "nteract": {
   "version": "0.11.2"
  }
 },
 "nbformat": 4,
 "nbformat_minor": 2
}
